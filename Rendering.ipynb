{
 "cells": [
  {
   "cell_type": "code",
   "execution_count": 1,
   "metadata": {},
   "outputs": [],
   "source": [
    "import lib.NZMap as nzmap\n",
    "import os\n",
    "\n",
    "dataDirectory = \"osmdata\"\n",
    "filename = \"TX-To-TU.osm\"\n",
    "filepath = os.path.join(dataDirectory,filename)\n",
    "\n",
    "osmMap = nzmap.readFile(filepath)"
   ]
  },
  {
   "cell_type": "code",
   "execution_count": 2,
   "metadata": {},
   "outputs": [],
   "source": [
    "import tkinter\n",
    "\n",
    "root = tkinter.Tk()\n",
    "canvas = tkinter.Canvas(root)\n",
    "canvas.pack()\n",
    "python_green = \"#476042\"\n",
    "canvas.config(width=1024, height=768)\n",
    "\n",
    "canvasOrigin = (float(osmMap.minlat),float(osmMap.minlon)); \n",
    "canvasSize = (float(osmMap.maxlat)-float(osmMap.minlat), float(osmMap.maxlon)-float(osmMap.minlon))\n",
    "scale = 60000 \n",
    "\n",
    "\n",
    "for temp in osmMap.cells:\n",
    "    x =  (temp.lon - canvasOrigin[1]) * scale\n",
    "    y = (canvasSize[0]-( temp.lat - canvasOrigin[0])) * scale\n",
    "    canvas.create_oval(x-1, y-1, x+1, y+1, fill=python_green)\n",
    "    for connection in temp.connection:\n",
    "        x1 = (connection.lon - canvasOrigin[1]) * scale\n",
    "        y1 = (canvasSize[0]-( connection.lat - canvasOrigin[0])) * scale\n",
    "        canvas.create_line(x, y, x1, y1)\n",
    "\n",
    "root.mainloop()"
   ]
  },
  {
   "cell_type": "code",
   "execution_count": null,
   "metadata": {},
   "outputs": [],
   "source": []
  }
 ],
 "metadata": {
  "kernelspec": {
   "display_name": "Python 3",
   "language": "python",
   "name": "python3"
  },
  "language_info": {
   "codemirror_mode": {
    "name": "ipython",
    "version": 3
   },
   "file_extension": ".py",
   "mimetype": "text/x-python",
   "name": "python",
   "nbconvert_exporter": "python",
   "pygments_lexer": "ipython3",
   "version": "3.6.9"
  }
 },
 "nbformat": 4,
 "nbformat_minor": 2
}
