{
 "cells": [
  {
   "cell_type": "markdown",
   "metadata": {},
   "source": [
    "# Load Library\n",
    "load global library"
   ]
  },
  {
   "cell_type": "code",
   "execution_count": 1,
   "metadata": {},
   "outputs": [],
   "source": [
    "import sys\n",
    "import os"
   ]
  },
  {
   "cell_type": "markdown",
   "metadata": {},
   "source": [
    "load local library"
   ]
  },
  {
   "cell_type": "code",
   "execution_count": 2,
   "metadata": {},
   "outputs": [],
   "source": [
    "sys.path.append(os.path.join(os.getcwd() , \"..\"))\n",
    "import lib.NZMap as nzmap\n",
    "import lib.NZRenderer as renderer\n",
    "import lib.NZSimulation as simulation"
   ]
  },
  {
   "cell_type": "markdown",
   "metadata": {},
   "source": [
    "# Path to file"
   ]
  },
  {
   "cell_type": "code",
   "execution_count": 3,
   "metadata": {},
   "outputs": [],
   "source": [
    "dataDirectory = os.path.join(\"..\",\"osmdata\")\n",
    "filename = \"TX-To-TU.osm\"\n",
    "filepath = os.path.join(dataDirectory,filename)"
   ]
  },
  {
   "cell_type": "markdown",
   "metadata": {},
   "source": [
    "# Load Data"
   ]
  },
  {
   "cell_type": "code",
   "execution_count": 4,
   "metadata": {},
   "outputs": [],
   "source": [
    "osmMap = nzmap.readFile(filepath)"
   ]
  },
  {
   "cell_type": "markdown",
   "metadata": {},
   "source": [
    "# Simulate"
   ]
  },
  {
   "cell_type": "code",
   "execution_count": 5,
   "metadata": {},
   "outputs": [],
   "source": [
    "#sim = simulation.Simulation(osmMap)\n",
    "#sim.initialize(100, 10)\n",
    "sim = None"
   ]
  },
  {
   "cell_type": "markdown",
   "metadata": {},
   "source": [
    "# Render Map"
   ]
  },
  {
   "cell_type": "code",
   "execution_count": null,
   "metadata": {
    "scrolled": true
   },
   "outputs": [
    {
     "name": "stdout",
     "output_type": "stream",
     "text": [
      "Scrolling 0\n",
      "Scrolling 0\n",
      "Scrolling 0\n",
      "Scrolling 0\n",
      "Scrolling 0\n",
      "Scrolling 0\n",
      "Scrolling 0\n",
      "Scrolling 0\n",
      "Scrolling 0\n",
      "Scrolling 0\n",
      "Scrolling 0\n",
      "Scrolling 0\n",
      "Scrolling 0\n",
      "Scrolling 0\n",
      "Scrolling 0\n",
      "Scrolling 0\n",
      "Scrolling 0\n",
      "Scrolling 0\n",
      "Scrolling 0\n",
      "Scrolling 0\n",
      "Scrolling 0\n",
      "Scrolling 0\n",
      "Scrolling 0\n",
      "Scrolling 0\n",
      "Scrolling 0\n",
      "Scrolling 0\n",
      "Scrolling 0\n",
      "Scrolling 0\n",
      "Scrolling 0\n",
      "Scrolling 0\n",
      "Scrolling 0\n",
      "Scrolling 0\n",
      "Scrolling 0\n",
      "Scrolling 0\n",
      "Scrolling 0\n",
      "Scrolling 0\n",
      "Scrolling 0\n",
      "Scrolling 0\n",
      "Scrolling 0\n",
      "Scrolling 0\n",
      "Scrolling 0\n",
      "Scrolling 0\n",
      "Scrolling 0\n",
      "Scrolling 0\n",
      "Scrolling 0\n",
      "Scrolling 0\n",
      "Scrolling 0\n",
      "Scrolling 0\n",
      "Scrolling 0\n",
      "Scrolling 0\n",
      "Scrolling 0\n",
      "Scrolling 0\n",
      "Scrolling 0\n",
      "Scrolling 0\n",
      "Scrolling 0\n",
      "Scrolling 0\n",
      "Scrolling 0\n",
      "Scrolling 0\n",
      "Scrolling 0\n",
      "Scrolling 0\n",
      "Scrolling 0\n",
      "Scrolling 0\n",
      "Scrolling 0\n",
      "Scrolling 0\n",
      "Scrolling 0\n",
      "Scrolling 0\n",
      "Scrolling 0\n",
      "Scrolling 0\n",
      "Scrolling 0\n",
      "Scrolling 0\n",
      "Scrolling 0\n",
      "Scrolling 0\n",
      "Scrolling 0\n",
      "Scrolling 0\n",
      "Scrolling 0\n",
      "Scrolling 0\n",
      "Scrolling 0\n",
      "Scrolling 0\n",
      "Scrolling 0\n",
      "Scrolling 0\n",
      "Scrolling 0\n",
      "Scrolling 0\n",
      "Scrolling 0\n",
      "Scrolling 0\n",
      "Scrolling 0\n",
      "Scrolling 0\n",
      "Scrolling 0\n",
      "Scrolling 0\n",
      "Scrolling 0\n",
      "Scrolling 0\n",
      "Scrolling 0\n",
      "Scrolling 0\n",
      "Scrolling 0\n",
      "Scrolling 0\n",
      "Scrolling 0\n",
      "Scrolling 0\n",
      "Scrolling 0\n",
      "Scrolling 0\n",
      "Scrolling 0\n",
      "Scrolling 0\n",
      "Scrolling 0\n",
      "Scrolling 0\n",
      "Scrolling 0\n",
      "Scrolling 0\n",
      "Scrolling 0\n",
      "Scrolling 0\n",
      "Scrolling 0\n",
      "Scrolling 0\n",
      "Scrolling 0\n",
      "Scrolling 0\n",
      "Scrolling 0\n",
      "Scrolling 0\n",
      "Scrolling 0\n",
      "Scrolling 0\n",
      "Scrolling 0\n",
      "Scrolling 0\n",
      "Scrolling 0\n",
      "Scrolling 0\n",
      "Scrolling 0\n",
      "Scrolling 0\n",
      "Scrolling 0\n",
      "Scrolling 0\n",
      "Scrolling 0\n",
      "Scrolling 0\n",
      "Scrolling 0\n",
      "Scrolling 0\n",
      "Scrolling 0\n",
      "Scrolling 0\n",
      "Scrolling 0\n",
      "Scrolling 0\n",
      "Scrolling 0\n",
      "Scrolling 0\n",
      "Scrolling 0\n",
      "Scrolling 0\n",
      "Scrolling 0\n",
      "Scrolling 0\n",
      "Scrolling 0\n",
      "Scrolling 0\n",
      "Scrolling 0\n",
      "Scrolling 0\n",
      "Scrolling 0\n",
      "Scrolling 0\n",
      "Scrolling 0\n",
      "Scrolling 0\n",
      "Scrolling 0\n"
     ]
    }
   ],
   "source": [
    "renderer.render(osmMap,sim)"
   ]
  },
  {
   "cell_type": "code",
   "execution_count": null,
   "metadata": {},
   "outputs": [],
   "source": []
  },
  {
   "cell_type": "code",
   "execution_count": null,
   "metadata": {},
   "outputs": [],
   "source": []
  }
 ],
 "metadata": {
  "kernelspec": {
   "display_name": "Python 3",
   "language": "python",
   "name": "python3"
  },
  "language_info": {
   "codemirror_mode": {
    "name": "ipython",
    "version": 3
   },
   "file_extension": ".py",
   "mimetype": "text/x-python",
   "name": "python",
   "nbconvert_exporter": "python",
   "pygments_lexer": "ipython3",
   "version": "3.6.9"
  }
 },
 "nbformat": 4,
 "nbformat_minor": 2
}
