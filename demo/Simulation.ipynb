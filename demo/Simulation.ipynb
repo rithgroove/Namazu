{
 "cells": [
  {
   "cell_type": "markdown",
   "metadata": {},
   "source": [
    "# Load Library\n",
    "load global library"
   ]
  },
  {
   "cell_type": "code",
   "execution_count": 1,
   "metadata": {},
   "outputs": [],
   "source": [
    "import sys\n",
    "import os"
   ]
  },
  {
   "cell_type": "markdown",
   "metadata": {},
   "source": [
    "load local library"
   ]
  },
  {
   "cell_type": "code",
   "execution_count": 2,
   "metadata": {},
   "outputs": [],
   "source": [
    "sys.path.append(os.path.join(os.getcwd() , \"..\"))\n",
    "import lib.NZMap as nzmap\n",
    "import lib.NZRenderer as renderer\n",
    "import lib.NZSimulation as simulation"
   ]
  },
  {
   "cell_type": "markdown",
   "metadata": {},
   "source": [
    "# Path to file"
   ]
  },
  {
   "cell_type": "code",
   "execution_count": 3,
   "metadata": {},
   "outputs": [],
   "source": [
    "dataDirectory = os.path.join(\"..\",\"osmdata\")\n",
    "filename = \"TX-To-TU.osm\"\n",
    "filepath = os.path.join(dataDirectory,filename)"
   ]
  },
  {
   "cell_type": "markdown",
   "metadata": {},
   "source": [
    "# Load Data"
   ]
  },
  {
   "cell_type": "code",
   "execution_count": 4,
   "metadata": {},
   "outputs": [],
   "source": [
    "osmMap = nzmap.readFile(filepath)"
   ]
  },
  {
   "cell_type": "markdown",
   "metadata": {},
   "source": [
    "# Simulate"
   ]
  },
  {
   "cell_type": "code",
   "execution_count": 5,
   "metadata": {},
   "outputs": [
    {
     "name": "stdout",
     "output_type": "stream",
     "text": [
      "Processing = 1/100 agents\n",
      "Processing = 2/100 agents\n",
      "Processing = 3/100 agents\n",
      "Processing = 4/100 agents\n",
      "Processing = 5/100 agents\n",
      "Processing = 6/100 agents\n",
      "Processing = 7/100 agents\n",
      "Processing = 8/100 agents\n",
      "Processing = 9/100 agents\n",
      "Processing = 10/100 agents\n",
      "Processing = 11/100 agents\n",
      "Processing = 12/100 agents\n",
      "Processing = 13/100 agents\n",
      "Processing = 14/100 agents\n",
      "Processing = 15/100 agents\n",
      "Processing = 16/100 agents\n",
      "Processing = 17/100 agents\n",
      "Processing = 18/100 agents\n",
      "Processing = 19/100 agents\n",
      "Processing = 20/100 agents\n",
      "Processing = 21/100 agents\n",
      "Processing = 22/100 agents\n",
      "Processing = 23/100 agents\n",
      "Processing = 24/100 agents\n",
      "Processing = 25/100 agents\n",
      "Processing = 26/100 agents\n",
      "Processing = 27/100 agents\n",
      "Processing = 28/100 agents\n",
      "Processing = 29/100 agents\n",
      "Processing = 30/100 agents\n",
      "Processing = 31/100 agents\n",
      "Processing = 32/100 agents\n",
      "Processing = 33/100 agents\n",
      "Processing = 34/100 agents\n",
      "Processing = 35/100 agents\n",
      "Processing = 36/100 agents\n",
      "Processing = 37/100 agents\n",
      "Processing = 38/100 agents\n",
      "Processing = 39/100 agents\n",
      "Processing = 40/100 agents\n",
      "Processing = 41/100 agents\n",
      "Processing = 42/100 agents\n",
      "Processing = 43/100 agents\n",
      "Processing = 44/100 agents\n",
      "Processing = 45/100 agents\n",
      "Processing = 46/100 agents\n",
      "Processing = 47/100 agents\n",
      "Processing = 48/100 agents\n",
      "Processing = 49/100 agents\n",
      "Processing = 50/100 agents\n",
      "Processing = 51/100 agents\n",
      "Processing = 52/100 agents\n",
      "Processing = 53/100 agents\n",
      "Processing = 54/100 agents\n",
      "Processing = 55/100 agents\n",
      "Processing = 56/100 agents\n",
      "Processing = 57/100 agents\n",
      "Processing = 58/100 agents\n",
      "Processing = 59/100 agents\n",
      "Processing = 60/100 agents\n",
      "Processing = 61/100 agents\n",
      "Processing = 62/100 agents\n",
      "Processing = 63/100 agents\n",
      "Processing = 64/100 agents\n",
      "Processing = 65/100 agents\n",
      "Processing = 66/100 agents\n",
      "Processing = 67/100 agents\n",
      "Processing = 68/100 agents\n",
      "Processing = 69/100 agents\n",
      "Processing = 70/100 agents\n",
      "Processing = 71/100 agents\n",
      "Processing = 72/100 agents\n",
      "Processing = 73/100 agents\n",
      "Processing = 74/100 agents\n",
      "Processing = 75/100 agents\n",
      "Processing = 76/100 agents\n",
      "Processing = 77/100 agents\n",
      "Processing = 78/100 agents\n",
      "Processing = 79/100 agents\n",
      "Processing = 80/100 agents\n",
      "Processing = 81/100 agents\n",
      "Processing = 82/100 agents\n",
      "Processing = 83/100 agents\n",
      "Processing = 84/100 agents\n",
      "Processing = 85/100 agents\n",
      "Processing = 86/100 agents\n",
      "Processing = 87/100 agents\n",
      "Processing = 88/100 agents\n",
      "Processing = 89/100 agents\n",
      "Processing = 90/100 agents\n",
      "Processing = 91/100 agents\n",
      "Processing = 92/100 agents\n",
      "Processing = 93/100 agents\n",
      "Processing = 94/100 agents\n",
      "Processing = 95/100 agents\n",
      "Processing = 96/100 agents\n",
      "Processing = 97/100 agents\n",
      "Processing = 98/100 agents\n",
      "Processing = 99/100 agents\n",
      "Processing = 100/100 agents\n"
     ]
    }
   ],
   "source": [
    "sim = simulation.Simulation(osmMap)\n",
    "sim.initialize(100, 10)"
   ]
  },
  {
   "cell_type": "code",
   "execution_count": 6,
   "metadata": {},
   "outputs": [
    {
     "name": "stdout",
     "output_type": "stream",
     "text": [
      "Distance = 1556.8207247807109\n",
      "Destination: \n",
      "id: 1433550056-1433550165-3\n",
      "lat = 36.110356620000005 lon = 140.11052246 \n",
      "Neighbor : \n",
      "\t1433550056-1433550165-2 : 36.11047618, 140.11072724\n",
      "\t1433550056-1433550165-4 : 36.11023706, 140.11031767999998\n",
      "\n"
     ]
    }
   ],
   "source": [
    "print(sim.agents[0].currentERI)"
   ]
  },
  {
   "cell_type": "markdown",
   "metadata": {},
   "source": [
    "# Render Map"
   ]
  },
  {
   "cell_type": "code",
   "execution_count": null,
   "metadata": {
    "scrolled": true
   },
   "outputs": [
    {
     "name": "stdout",
     "output_type": "stream",
     "text": [
      "finish stepping\n",
      "finish stepping\n",
      "finish stepping\n",
      "finish stepping\n",
      "finish stepping\n",
      "finish stepping\n",
      "finish stepping\n",
      "finish stepping\n",
      "finish stepping\n",
      "finish stepping\n",
      "finish stepping\n",
      "finish stepping\n",
      "finish stepping\n",
      "finish stepping\n",
      "finish stepping\n",
      "finish stepping\n",
      "finish stepping\n",
      "finish stepping\n",
      "finish stepping\n",
      "finish stepping\n",
      "finish stepping\n",
      "finish stepping\n",
      "finish stepping\n",
      "finish stepping\n",
      "finish stepping\n",
      "finish stepping\n",
      "finish stepping\n",
      "finish stepping\n",
      "finish stepping\n",
      "finish stepping\n",
      "finish stepping\n",
      "finish stepping\n",
      "finish stepping\n",
      "finish stepping\n",
      "finish stepping\n",
      "finish stepping\n",
      "finish stepping\n",
      "finish stepping\n",
      "finish stepping\n",
      "finish stepping\n",
      "finish stepping\n",
      "finish stepping\n",
      "finish stepping\n",
      "finish stepping\n",
      "finish stepping\n",
      "finish stepping\n",
      "finish stepping\n",
      "finish stepping\n",
      "finish stepping\n",
      "finish stepping\n",
      "finish stepping\n",
      "finish stepping\n",
      "finish stepping\n",
      "finish stepping\n",
      "finish stepping\n",
      "finish stepping\n",
      "finish stepping\n",
      "finish stepping\n",
      "finish stepping\n",
      "finish stepping\n",
      "finish stepping\n",
      "finish stepping\n",
      "finish stepping\n",
      "finish stepping\n",
      "finish stepping\n",
      "finish stepping\n",
      "finish stepping\n",
      "finish stepping\n",
      "finish stepping\n",
      "finish stepping\n",
      "finish stepping\n",
      "finish stepping\n",
      "finish stepping\n",
      "finish stepping\n",
      "finish stepping\n",
      "finish stepping\n",
      "finish stepping\n",
      "finish stepping\n",
      "finish stepping\n",
      "finish stepping\n",
      "finish stepping\n",
      "finish stepping\n",
      "finish stepping\n",
      "finish stepping\n",
      "finish stepping\n",
      "finish stepping\n",
      "finish stepping\n",
      "finish stepping\n",
      "finish stepping\n"
     ]
    }
   ],
   "source": [
    "renderer.render(osmMap,sim)"
   ]
  },
  {
   "cell_type": "code",
   "execution_count": null,
   "metadata": {},
   "outputs": [],
   "source": []
  }
 ],
 "metadata": {
  "kernelspec": {
   "display_name": "Python 3",
   "language": "python",
   "name": "python3"
  },
  "language_info": {
   "codemirror_mode": {
    "name": "ipython",
    "version": 3
   },
   "file_extension": ".py",
   "mimetype": "text/x-python",
   "name": "python",
   "nbconvert_exporter": "python",
   "pygments_lexer": "ipython3",
   "version": "3.6.9"
  }
 },
 "nbformat": 4,
 "nbformat_minor": 2
}
