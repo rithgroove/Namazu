{
 "cells": [
  {
   "cell_type": "markdown",
   "metadata": {},
   "source": [
    "# Load Library\n",
    "load global library"
   ]
  },
  {
   "cell_type": "code",
   "execution_count": 1,
   "metadata": {},
   "outputs": [],
   "source": [
    "import sys\n",
    "import os"
   ]
  },
  {
   "cell_type": "markdown",
   "metadata": {},
   "source": [
    "load local library"
   ]
  },
  {
   "cell_type": "code",
   "execution_count": 2,
   "metadata": {},
   "outputs": [],
   "source": [
    "sys.path.append(os.path.join(os.getcwd() , \"..\"))\n",
    "import lib.NZMap as nzmap\n",
    "import lib.NZRenderer as renderer\n",
    "import lib.NZSimulation as simulation"
   ]
  },
  {
   "cell_type": "markdown",
   "metadata": {},
   "source": [
    "# Path to file"
   ]
  },
  {
   "cell_type": "code",
   "execution_count": 3,
   "metadata": {},
   "outputs": [],
   "source": [
    "dataDirectory = os.path.join(\"..\",\"osmdata\")\n",
    "filename = \"TX-To-TU.osm\"\n",
    "filepath = os.path.join(dataDirectory,filename)"
   ]
  },
  {
   "cell_type": "markdown",
   "metadata": {},
   "source": [
    "# Load Data"
   ]
  },
  {
   "cell_type": "code",
   "execution_count": 4,
   "metadata": {},
   "outputs": [
    {
     "name": "stdout",
     "output_type": "stream",
     "text": [
      "Road 1 : 13444 cell\n",
      "Road 2 : 26 cell\n",
      "Road 3 : 54 cell\n",
      "Road 4 : 4 cell\n",
      "Road 5 : 8 cell\n",
      "Road 6 : 42 cell\n",
      "Road 7 : 7 cell\n",
      "Road 8 : 4 cell\n",
      "Road 9 : 15 cell\n",
      "Road 10 : 10 cell\n",
      "Road 11 : 53 cell\n",
      "Road 12 : 63 cell\n",
      "Road 13 : 42 cell\n",
      "Road 14 : 26 cell\n",
      "Road 15 : 18 cell\n",
      "Road 16 : 61 cell\n"
     ]
    }
   ],
   "source": [
    "osmMap = nzmap.readFile(filepath)\n",
    "osmMap.restructureRoad()"
   ]
  },
  {
   "cell_type": "markdown",
   "metadata": {},
   "source": [
    "# Simulate"
   ]
  },
  {
   "cell_type": "code",
   "execution_count": 5,
   "metadata": {},
   "outputs": [
    {
     "name": "stdout",
     "output_type": "stream",
     "text": [
      "Processing = 1/20 agents\n",
      "Processing = 2/20 agents\n",
      "Processing = 3/20 agents\n",
      "Processing = 4/20 agents\n",
      "Processing = 5/20 agents\n",
      "Processing = 6/20 agents\n",
      "Processing = 7/20 agents\n",
      "Processing = 8/20 agents\n",
      "Processing = 9/20 agents\n",
      "Processing = 10/20 agents\n",
      "Processing = 11/20 agents\n",
      "Processing = 12/20 agents\n",
      "Processing = 13/20 agents\n",
      "Selected Cell is out of bounds, selecting another random cell\n",
      "Processing = 14/20 agents\n",
      "Selected Cell is out of bounds, selecting another random cell\n",
      "Processing = 15/20 agents\n",
      "Processing = 16/20 agents\n",
      "Processing = 17/20 agents\n",
      "Processing = 18/20 agents\n",
      "Processing = 19/20 agents\n",
      "Processing = 20/20 agents\n"
     ]
    }
   ],
   "source": [
    "sim = simulation.Simulation(osmMap)\n",
    "sim.initialize(20, 5)"
   ]
  },
  {
   "cell_type": "markdown",
   "metadata": {},
   "source": [
    "# Render Map"
   ]
  },
  {
   "cell_type": "code",
   "execution_count": 6,
   "metadata": {
    "scrolled": true
   },
   "outputs": [
    {
     "name": "stdout",
     "output_type": "stream",
     "text": [
      "Scrolling 0\n",
      "Scrolling 0\n",
      "Scrolling 0\n",
      "Scrolling 0\n",
      "Scrolling 0\n",
      "Scrolling 0\n",
      "Scrolling 0\n",
      "Scrolling 0\n"
     ]
    }
   ],
   "source": [
    "renderer.render(osmMap,sim)"
   ]
  },
  {
   "cell_type": "code",
   "execution_count": 7,
   "metadata": {},
   "outputs": [
    {
     "name": "stdout",
     "output_type": "stream",
     "text": [
      "Step count = 0\n",
      "Total agent = 20\n",
      "\tTotal Unevacuated = 20\n",
      "\tTotal Evacuated = 0\n",
      "Total Evac Point = 5\n",
      "\tTotal Filled Evac Point = 0\n",
      "\n"
     ]
    }
   ],
   "source": [
    "print(sim)"
   ]
  },
  {
   "cell_type": "code",
   "execution_count": null,
   "metadata": {},
   "outputs": [],
   "source": []
  }
 ],
 "metadata": {
  "kernelspec": {
   "display_name": "Python 3",
   "language": "python",
   "name": "python3"
  },
  "language_info": {
   "codemirror_mode": {
    "name": "ipython",
    "version": 3
   },
   "file_extension": ".py",
   "mimetype": "text/x-python",
   "name": "python",
   "nbconvert_exporter": "python",
   "pygments_lexer": "ipython3",
   "version": "3.6.9"
  }
 },
 "nbformat": 4,
 "nbformat_minor": 2
}
