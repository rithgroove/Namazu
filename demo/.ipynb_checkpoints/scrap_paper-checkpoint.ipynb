{
 "cells": [
  {
   "cell_type": "markdown",
   "metadata": {},
   "source": [
    "# Load Library\n",
    "load global library"
   ]
  },
  {
   "cell_type": "code",
   "execution_count": 1,
   "metadata": {},
   "outputs": [],
   "source": [
    "import sys\n",
    "import os"
   ]
  },
  {
   "cell_type": "markdown",
   "metadata": {},
   "source": [
    "load local library"
   ]
  },
  {
   "cell_type": "code",
   "execution_count": 2,
   "metadata": {},
   "outputs": [],
   "source": [
    "sys.path.append(os.path.join(os.getcwd() , \"..\"))\n",
    "import lib.Map.Map as map\n",
    "import lib.Renderer.Renderer as renderer\n",
    "import lib.Simulation.Simulation as simulation"
   ]
  },
  {
   "cell_type": "code",
   "execution_count": 3,
   "metadata": {},
   "outputs": [
    {
     "name": "stdout",
     "output_type": "stream",
     "text": [
      "\n",
      "    [Class] Map\n",
      "    A class to represent the map\n",
      "    \n",
      "    Properties:\n",
      "        - minlat : minimum latitude.\n",
      "        - minlon : minimum longitude.\n",
      "        - maxlat : maximum latitute.\n",
      "        - maxlon : maximum longitude.\n",
      "        - num_nodes : Number of Nodes.\n",
      "        - nodesDict : Dictionary of all nodes. The key used are the Open Street Map ID.\n",
      "        - nodes : List of all nodes.\n",
      "        - num_ways : Number of Ways.\n",
      "        - waysDict : Dictionary of all nodes. The key used are the Open Street Map ID.\n",
      "        - ways : List of all ways.\n",
      "        - roadsDict : List of all nodes that marked as road.\n",
      "        - roads : List of all roads.\n",
      "    \n"
     ]
    }
   ],
   "source": [
    "print(map.Map.__doc__)"
   ]
  },
  {
   "cell_type": "code",
   "execution_count": 4,
   "metadata": {},
   "outputs": [
    {
     "name": "stdout",
     "output_type": "stream",
     "text": [
      "\n",
      "    [Function] readFile\n",
      "    Function to generate map fom osm File\n",
      "    \n",
      "    parameter:\n",
      "        - filepath : path to the OSM file\n",
      "    \n"
     ]
    }
   ],
   "source": [
    "\n",
    "print(map.readFile.__doc__)"
   ]
  },
  {
   "cell_type": "code",
   "execution_count": 5,
   "metadata": {},
   "outputs": [],
   "source": [
    "dataDirectory = os.path.join(\"..\",\"osmdata\")\n",
    "filename = \"TX-To-TU.osm\"\n",
    "filepath = os.path.join(dataDirectory,filename)"
   ]
  },
  {
   "cell_type": "code",
   "execution_count": 6,
   "metadata": {},
   "outputs": [],
   "source": [
    "osmMap = map.readFile(filepath)"
   ]
  },
  {
   "cell_type": "code",
   "execution_count": 7,
   "metadata": {},
   "outputs": [
    {
     "name": "stdout",
     "output_type": "stream",
     "text": [
      "Namazu Map\n",
      " number of nodes = 22469\n",
      " number of ways = 3681\n",
      "number of roads node = 7270\n",
      " number of building = 1768\n"
     ]
    }
   ],
   "source": [
    "print(osmMap)"
   ]
  },
  {
   "cell_type": "code",
   "execution_count": null,
   "metadata": {},
   "outputs": [],
   "source": [
    "sim = simulation.Simulation(osmMap)"
   ]
  },
  {
   "cell_type": "code",
   "execution_count": 8,
   "metadata": {},
   "outputs": [
    {
     "name": "stdout",
     "output_type": "stream",
     "text": [
      "Scrolling 0\n",
      "Scrolling 0\n",
      "Scrolling 0\n",
      "Scrolling 0\n",
      "Scrolling 0\n",
      "Scrolling 0\n",
      "Scrolling 0\n"
     ]
    },
    {
     "name": "stderr",
     "output_type": "stream",
     "text": [
      "Exception in Tkinter callback\n",
      "Traceback (most recent call last):\n",
      "  File \"/usr/lib/python3.6/tkinter/__init__.py\", line 1705, in __call__\n",
      "    return self.func(*args)\n",
      "  File \"/home/rithgroove/Desktop/Study/Namazu/demo/../lib/Renderer/Renderer.py\", line 81, in scroll\n",
      "    print(region)\n",
      "NameError: name 'region' is not defined\n",
      "Exception in Tkinter callback\n",
      "Traceback (most recent call last):\n",
      "  File \"/usr/lib/python3.6/tkinter/__init__.py\", line 1705, in __call__\n",
      "    return self.func(*args)\n",
      "  File \"/home/rithgroove/Desktop/Study/Namazu/demo/../lib/Renderer/Renderer.py\", line 81, in scroll\n",
      "    print(region)\n",
      "NameError: name 'region' is not defined\n",
      "Exception in Tkinter callback\n",
      "Traceback (most recent call last):\n",
      "  File \"/usr/lib/python3.6/tkinter/__init__.py\", line 1705, in __call__\n",
      "    return self.func(*args)\n",
      "  File \"/home/rithgroove/Desktop/Study/Namazu/demo/../lib/Renderer/Renderer.py\", line 81, in scroll\n",
      "    print(region)\n",
      "NameError: name 'region' is not defined\n",
      "Exception in Tkinter callback\n",
      "Traceback (most recent call last):\n",
      "  File \"/usr/lib/python3.6/tkinter/__init__.py\", line 1705, in __call__\n",
      "    return self.func(*args)\n",
      "  File \"/home/rithgroove/Desktop/Study/Namazu/demo/../lib/Renderer/Renderer.py\", line 81, in scroll\n",
      "    print(region)\n",
      "NameError: name 'region' is not defined\n",
      "Exception in Tkinter callback\n",
      "Traceback (most recent call last):\n",
      "  File \"/usr/lib/python3.6/tkinter/__init__.py\", line 1705, in __call__\n",
      "    return self.func(*args)\n",
      "  File \"/home/rithgroove/Desktop/Study/Namazu/demo/../lib/Renderer/Renderer.py\", line 81, in scroll\n",
      "    print(region)\n",
      "NameError: name 'region' is not defined\n",
      "Exception in Tkinter callback\n",
      "Traceback (most recent call last):\n",
      "  File \"/usr/lib/python3.6/tkinter/__init__.py\", line 1705, in __call__\n",
      "    return self.func(*args)\n",
      "  File \"/home/rithgroove/Desktop/Study/Namazu/demo/../lib/Renderer/Renderer.py\", line 81, in scroll\n",
      "    print(region)\n",
      "NameError: name 'region' is not defined\n",
      "Exception in Tkinter callback\n",
      "Traceback (most recent call last):\n",
      "  File \"/usr/lib/python3.6/tkinter/__init__.py\", line 1705, in __call__\n",
      "    return self.func(*args)\n",
      "  File \"/home/rithgroove/Desktop/Study/Namazu/demo/../lib/Renderer/Renderer.py\", line 81, in scroll\n",
      "    print(region)\n",
      "NameError: name 'region' is not defined\n"
     ]
    },
    {
     "name": "stdout",
     "output_type": "stream",
     "text": [
      "Scrolling 0\n"
     ]
    },
    {
     "name": "stderr",
     "output_type": "stream",
     "text": [
      "Exception in Tkinter callback\n",
      "Traceback (most recent call last):\n",
      "  File \"/usr/lib/python3.6/tkinter/__init__.py\", line 1705, in __call__\n",
      "    return self.func(*args)\n",
      "  File \"/home/rithgroove/Desktop/Study/Namazu/demo/../lib/Renderer/Renderer.py\", line 81, in scroll\n",
      "    print(region)\n",
      "NameError: name 'region' is not defined\n"
     ]
    },
    {
     "name": "stdout",
     "output_type": "stream",
     "text": [
      "Scrolling 0\n",
      "Scrolling 0\n",
      "Scrolling 0\n",
      "Scrolling 0\n",
      "Scrolling 0\n"
     ]
    },
    {
     "name": "stderr",
     "output_type": "stream",
     "text": [
      "Exception in Tkinter callback\n",
      "Traceback (most recent call last):\n",
      "  File \"/usr/lib/python3.6/tkinter/__init__.py\", line 1705, in __call__\n",
      "    return self.func(*args)\n",
      "  File \"/home/rithgroove/Desktop/Study/Namazu/demo/../lib/Renderer/Renderer.py\", line 81, in scroll\n",
      "    print(region)\n",
      "NameError: name 'region' is not defined\n",
      "Exception in Tkinter callback\n",
      "Traceback (most recent call last):\n",
      "  File \"/usr/lib/python3.6/tkinter/__init__.py\", line 1705, in __call__\n",
      "    return self.func(*args)\n",
      "  File \"/home/rithgroove/Desktop/Study/Namazu/demo/../lib/Renderer/Renderer.py\", line 81, in scroll\n",
      "    print(region)\n",
      "NameError: name 'region' is not defined\n",
      "Exception in Tkinter callback\n",
      "Traceback (most recent call last):\n",
      "  File \"/usr/lib/python3.6/tkinter/__init__.py\", line 1705, in __call__\n",
      "    return self.func(*args)\n",
      "  File \"/home/rithgroove/Desktop/Study/Namazu/demo/../lib/Renderer/Renderer.py\", line 81, in scroll\n",
      "    print(region)\n",
      "NameError: name 'region' is not defined\n",
      "Exception in Tkinter callback\n",
      "Traceback (most recent call last):\n",
      "  File \"/usr/lib/python3.6/tkinter/__init__.py\", line 1705, in __call__\n",
      "    return self.func(*args)\n",
      "  File \"/home/rithgroove/Desktop/Study/Namazu/demo/../lib/Renderer/Renderer.py\", line 81, in scroll\n",
      "    print(region)\n",
      "NameError: name 'region' is not defined\n",
      "Exception in Tkinter callback\n",
      "Traceback (most recent call last):\n",
      "  File \"/usr/lib/python3.6/tkinter/__init__.py\", line 1705, in __call__\n",
      "    return self.func(*args)\n",
      "  File \"/home/rithgroove/Desktop/Study/Namazu/demo/../lib/Renderer/Renderer.py\", line 81, in scroll\n",
      "    print(region)\n",
      "NameError: name 'region' is not defined\n"
     ]
    },
    {
     "name": "stdout",
     "output_type": "stream",
     "text": [
      "Scrolling 0\n"
     ]
    },
    {
     "name": "stderr",
     "output_type": "stream",
     "text": [
      "Exception in Tkinter callback\n",
      "Traceback (most recent call last):\n",
      "  File \"/usr/lib/python3.6/tkinter/__init__.py\", line 1705, in __call__\n",
      "    return self.func(*args)\n",
      "  File \"/home/rithgroove/Desktop/Study/Namazu/demo/../lib/Renderer/Renderer.py\", line 81, in scroll\n",
      "    print(region)\n",
      "NameError: name 'region' is not defined\n"
     ]
    },
    {
     "name": "stdout",
     "output_type": "stream",
     "text": [
      "Scrolling 0\n",
      "Scrolling 0\n"
     ]
    },
    {
     "name": "stderr",
     "output_type": "stream",
     "text": [
      "Exception in Tkinter callback\n",
      "Traceback (most recent call last):\n",
      "  File \"/usr/lib/python3.6/tkinter/__init__.py\", line 1705, in __call__\n",
      "    return self.func(*args)\n",
      "  File \"/home/rithgroove/Desktop/Study/Namazu/demo/../lib/Renderer/Renderer.py\", line 81, in scroll\n",
      "    print(region)\n",
      "NameError: name 'region' is not defined\n",
      "Exception in Tkinter callback\n",
      "Traceback (most recent call last):\n",
      "  File \"/usr/lib/python3.6/tkinter/__init__.py\", line 1705, in __call__\n",
      "    return self.func(*args)\n",
      "  File \"/home/rithgroove/Desktop/Study/Namazu/demo/../lib/Renderer/Renderer.py\", line 81, in scroll\n",
      "    print(region)\n",
      "NameError: name 'region' is not defined\n"
     ]
    },
    {
     "name": "stdout",
     "output_type": "stream",
     "text": [
      "Scrolling 0\n",
      "Scrolling 0\n"
     ]
    },
    {
     "name": "stderr",
     "output_type": "stream",
     "text": [
      "Exception in Tkinter callback\n",
      "Traceback (most recent call last):\n",
      "  File \"/usr/lib/python3.6/tkinter/__init__.py\", line 1705, in __call__\n",
      "    return self.func(*args)\n",
      "  File \"/home/rithgroove/Desktop/Study/Namazu/demo/../lib/Renderer/Renderer.py\", line 81, in scroll\n",
      "    print(region)\n",
      "NameError: name 'region' is not defined\n",
      "Exception in Tkinter callback\n",
      "Traceback (most recent call last):\n",
      "  File \"/usr/lib/python3.6/tkinter/__init__.py\", line 1705, in __call__\n",
      "    return self.func(*args)\n",
      "  File \"/home/rithgroove/Desktop/Study/Namazu/demo/../lib/Renderer/Renderer.py\", line 81, in scroll\n",
      "    print(region)\n",
      "NameError: name 'region' is not defined\n"
     ]
    },
    {
     "name": "stdout",
     "output_type": "stream",
     "text": [
      "Scrolling 0\n"
     ]
    },
    {
     "name": "stderr",
     "output_type": "stream",
     "text": [
      "Exception in Tkinter callback\n",
      "Traceback (most recent call last):\n",
      "  File \"/usr/lib/python3.6/tkinter/__init__.py\", line 1705, in __call__\n",
      "    return self.func(*args)\n",
      "  File \"/home/rithgroove/Desktop/Study/Namazu/demo/../lib/Renderer/Renderer.py\", line 81, in scroll\n",
      "    print(region)\n",
      "NameError: name 'region' is not defined\n"
     ]
    },
    {
     "name": "stdout",
     "output_type": "stream",
     "text": [
      "Scrolling 0\n",
      "Scrolling 0\n",
      "Scrolling 0\n"
     ]
    },
    {
     "name": "stderr",
     "output_type": "stream",
     "text": [
      "Exception in Tkinter callback\n",
      "Traceback (most recent call last):\n",
      "  File \"/usr/lib/python3.6/tkinter/__init__.py\", line 1705, in __call__\n",
      "    return self.func(*args)\n",
      "  File \"/home/rithgroove/Desktop/Study/Namazu/demo/../lib/Renderer/Renderer.py\", line 81, in scroll\n",
      "    print(region)\n",
      "NameError: name 'region' is not defined\n",
      "Exception in Tkinter callback\n",
      "Traceback (most recent call last):\n",
      "  File \"/usr/lib/python3.6/tkinter/__init__.py\", line 1705, in __call__\n",
      "    return self.func(*args)\n",
      "  File \"/home/rithgroove/Desktop/Study/Namazu/demo/../lib/Renderer/Renderer.py\", line 81, in scroll\n",
      "    print(region)\n",
      "NameError: name 'region' is not defined\n",
      "Exception in Tkinter callback\n",
      "Traceback (most recent call last):\n",
      "  File \"/usr/lib/python3.6/tkinter/__init__.py\", line 1705, in __call__\n",
      "    return self.func(*args)\n",
      "  File \"/home/rithgroove/Desktop/Study/Namazu/demo/../lib/Renderer/Renderer.py\", line 81, in scroll\n",
      "    print(region)\n",
      "NameError: name 'region' is not defined\n"
     ]
    },
    {
     "name": "stdout",
     "output_type": "stream",
     "text": [
      "Scrolling 0\n"
     ]
    },
    {
     "name": "stderr",
     "output_type": "stream",
     "text": [
      "Exception in Tkinter callback\n",
      "Traceback (most recent call last):\n",
      "  File \"/usr/lib/python3.6/tkinter/__init__.py\", line 1705, in __call__\n",
      "    return self.func(*args)\n",
      "  File \"/home/rithgroove/Desktop/Study/Namazu/demo/../lib/Renderer/Renderer.py\", line 81, in scroll\n",
      "    print(region)\n",
      "NameError: name 'region' is not defined\n"
     ]
    },
    {
     "name": "stdout",
     "output_type": "stream",
     "text": [
      "Scrolling 0\n",
      "Scrolling 0\n"
     ]
    },
    {
     "name": "stderr",
     "output_type": "stream",
     "text": [
      "Exception in Tkinter callback\n",
      "Traceback (most recent call last):\n",
      "  File \"/usr/lib/python3.6/tkinter/__init__.py\", line 1705, in __call__\n",
      "    return self.func(*args)\n",
      "  File \"/home/rithgroove/Desktop/Study/Namazu/demo/../lib/Renderer/Renderer.py\", line 81, in scroll\n",
      "    print(region)\n",
      "NameError: name 'region' is not defined\n",
      "Exception in Tkinter callback\n",
      "Traceback (most recent call last):\n",
      "  File \"/usr/lib/python3.6/tkinter/__init__.py\", line 1705, in __call__\n",
      "    return self.func(*args)\n",
      "  File \"/home/rithgroove/Desktop/Study/Namazu/demo/../lib/Renderer/Renderer.py\", line 81, in scroll\n",
      "    print(region)\n",
      "NameError: name 'region' is not defined\n"
     ]
    },
    {
     "name": "stdout",
     "output_type": "stream",
     "text": [
      "Scrolling 0\n",
      "Scrolling 0\n"
     ]
    },
    {
     "name": "stderr",
     "output_type": "stream",
     "text": [
      "Exception in Tkinter callback\n",
      "Traceback (most recent call last):\n",
      "  File \"/usr/lib/python3.6/tkinter/__init__.py\", line 1705, in __call__\n",
      "    return self.func(*args)\n",
      "  File \"/home/rithgroove/Desktop/Study/Namazu/demo/../lib/Renderer/Renderer.py\", line 81, in scroll\n",
      "    print(region)\n",
      "NameError: name 'region' is not defined\n",
      "Exception in Tkinter callback\n",
      "Traceback (most recent call last):\n",
      "  File \"/usr/lib/python3.6/tkinter/__init__.py\", line 1705, in __call__\n",
      "    return self.func(*args)\n",
      "  File \"/home/rithgroove/Desktop/Study/Namazu/demo/../lib/Renderer/Renderer.py\", line 81, in scroll\n",
      "    print(region)\n",
      "NameError: name 'region' is not defined\n"
     ]
    }
   ],
   "source": [
    "renderer.render(osmMap)"
   ]
  }
 ],
 "metadata": {
  "kernelspec": {
   "display_name": "Python 3",
   "language": "python",
   "name": "python3"
  },
  "language_info": {
   "codemirror_mode": {
    "name": "ipython",
    "version": 3
   },
   "file_extension": ".py",
   "mimetype": "text/x-python",
   "name": "python",
   "nbconvert_exporter": "python",
   "pygments_lexer": "ipython3",
   "version": "3.6.9"
  }
 },
 "nbformat": 4,
 "nbformat_minor": 2
}
