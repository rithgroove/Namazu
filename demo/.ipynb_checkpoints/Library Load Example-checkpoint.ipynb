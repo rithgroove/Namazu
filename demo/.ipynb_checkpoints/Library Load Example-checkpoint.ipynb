{
 "cells": [
  {
   "cell_type": "markdown",
   "metadata": {},
   "source": [
    "# Load Library\n",
    "Load global library (before we changed the path)"
   ]
  },
  {
   "cell_type": "code",
   "execution_count": 1,
   "metadata": {},
   "outputs": [],
   "source": [
    "import sys\n",
    "import os"
   ]
  },
  {
   "cell_type": "markdown",
   "metadata": {},
   "source": [
    "Load local library"
   ]
  },
  {
   "cell_type": "code",
   "execution_count": 2,
   "metadata": {},
   "outputs": [],
   "source": [
    "sys.path.append(os.path.join(os.getcwd() , \"..\"))\n",
    "import lib.NZMap as nzmap"
   ]
  },
  {
   "cell_type": "markdown",
   "metadata": {},
   "source": [
    "## Path to OSM file"
   ]
  },
  {
   "cell_type": "code",
   "execution_count": 3,
   "metadata": {},
   "outputs": [],
   "source": [
    "dataDirectory = os.path.join(\"..\",\"osmdata\")\n",
    "filename = \"TX-To-TU.osm\"\n",
    "filepath = os.path.join(dataDirectory,filename)"
   ]
  },
  {
   "cell_type": "markdown",
   "metadata": {},
   "source": [
    "## Load OSM file"
   ]
  },
  {
   "cell_type": "code",
   "execution_count": 4,
   "metadata": {},
   "outputs": [],
   "source": [
    "osmMap = nzmap.readFile(filepath)"
   ]
  },
  {
   "cell_type": "markdown",
   "metadata": {},
   "source": [
    "### Nodes \n",
    "\n",
    "Class [NZMap.Node]\n",
    "\n",
    "this is the representation of osmNode\n",
    "- Map.nodes => array of all Node\n",
    "- Map.nodesDict => Dictionary of all Node\n"
   ]
  },
  {
   "cell_type": "code",
   "execution_count": 5,
   "metadata": {},
   "outputs": [
    {
     "name": "stdout",
     "output_type": "stream",
     "text": [
      "id: 271818951\n",
      "lat = 36.0803411 lon = 140.1132446 \n",
      "number of ways : 4\n",
      "number of connections : 0\n",
      "Tags : \n",
      "\thighway : traffic_signals\n",
      "\tname : 大清水公園西\n",
      "\n",
      "\n"
     ]
    }
   ],
   "source": [
    "print(osmMap.nodes[0])"
   ]
  },
  {
   "cell_type": "markdown",
   "metadata": {},
   "source": [
    "### Ways \n",
    "\n",
    "Class [NZMap.Way]\n",
    "\n",
    "this is the representation of osmWays\n",
    "- Map.ways => array of all Way\n",
    "- Map.waysDict => Dictionary of all Way\n"
   ]
  },
  {
   "cell_type": "code",
   "execution_count": 6,
   "metadata": {},
   "outputs": [
    {
     "name": "stdout",
     "output_type": "stream",
     "text": [
      "id: 25004204\n",
      "number of nodes : 5\n",
      "Tags : \n",
      "\thighway : trunk\n",
      "\tlanes : 2\n",
      "\tname : 学園西大通り\n",
      "\tname:en : Gakuen-west-odori Avenue\n",
      "\tname:ja : 学園西大通り\n",
      "\tname:ja-Hira : がくえんにしおおどおり\n",
      "\tname:ja-Latn : Gakuen-nishi-odori\n",
      "\tofficial_name : 一般国道408号\n",
      "\toneway : yes\n",
      "\tref : 408\n",
      "\tsource : GSImaps/std\n",
      "\tsurface : paved\n",
      "\n",
      "\n"
     ]
    }
   ],
   "source": [
    "print(osmMap.ways[0])"
   ]
  }
 ],
 "metadata": {
  "kernelspec": {
   "display_name": "Python 3",
   "language": "python",
   "name": "python3"
  },
  "language_info": {
   "codemirror_mode": {
    "name": "ipython",
    "version": 3
   },
   "file_extension": ".py",
   "mimetype": "text/x-python",
   "name": "python",
   "nbconvert_exporter": "python",
   "pygments_lexer": "ipython3",
   "version": "3.8.5"
  }
 },
 "nbformat": 4,
 "nbformat_minor": 2
}
