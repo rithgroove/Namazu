{
 "cells": [
  {
   "cell_type": "markdown",
   "metadata": {},
   "source": [
    "# Load Library\n",
    "load global library"
   ]
  },
  {
   "cell_type": "code",
   "execution_count": 1,
   "metadata": {},
   "outputs": [],
   "source": [
    "import sys\n",
    "import os"
   ]
  },
  {
   "cell_type": "markdown",
   "metadata": {},
   "source": [
    "load local library"
   ]
  },
  {
   "cell_type": "code",
   "execution_count": 2,
   "metadata": {},
   "outputs": [],
   "source": [
    "sys.path.append(os.path.join(os.getcwd() , \"..\"))\n",
    "import lib.NZMap as nzmap\n",
    "import lib.NZRenderer as renderer\n",
    "import lib.NZSimulation as simulation\n",
    "import lib.NZEvaluator as evaluator"
   ]
  },
  {
   "cell_type": "markdown",
   "metadata": {},
   "source": [
    "# Path to file"
   ]
  },
  {
   "cell_type": "code",
   "execution_count": 3,
   "metadata": {},
   "outputs": [],
   "source": [
    "dataDirectory = os.path.join(\"..\",\"osmdata\")\n",
    "filename = \"TX-To-TU.osm\"\n",
    "filepath = os.path.join(dataDirectory,filename)"
   ]
  },
  {
   "cell_type": "markdown",
   "metadata": {},
   "source": [
    "# Load Data"
   ]
  },
  {
   "cell_type": "code",
   "execution_count": 4,
   "metadata": {},
   "outputs": [
    {
     "name": "stdout",
     "output_type": "stream",
     "text": [
      "Road 1 : 13444 cell\n",
      "Road 2 : 26 cell\n",
      "Road 3 : 54 cell\n",
      "Road 4 : 4 cell\n",
      "Road 5 : 8 cell\n",
      "Road 6 : 42 cell\n",
      "Road 7 : 7 cell\n",
      "Road 8 : 4 cell\n",
      "Road 9 : 15 cell\n",
      "Road 10 : 10 cell\n",
      "Road 11 : 53 cell\n",
      "Road 12 : 63 cell\n",
      "Road 13 : 42 cell\n",
      "Road 14 : 26 cell\n",
      "Road 15 : 18 cell\n",
      "Road 16 : 61 cell\n"
     ]
    }
   ],
   "source": [
    "osmMap = nzmap.readFile(filepath)\n",
    "osmMap.restructureRoad()"
   ]
  },
  {
   "cell_type": "markdown",
   "metadata": {},
   "source": [
    "# Simulate"
   ]
  },
  {
   "cell_type": "code",
   "execution_count": 5,
   "metadata": {},
   "outputs": [
    {
     "name": "stdout",
     "output_type": "stream",
     "text": [
      "Processing = 1/100 agents\n",
      "Processing = 2/100 agents\n",
      "Processing = 3/100 agents\n",
      "Processing = 4/100 agents\n",
      "Processing = 5/100 agents\n",
      "Processing = 6/100 agents\n",
      "Processing = 7/100 agents\n",
      "Processing = 8/100 agents\n",
      "Processing = 9/100 agents\n",
      "Processing = 10/100 agents\n",
      "Processing = 11/100 agents\n",
      "Processing = 12/100 agents\n",
      "Processing = 13/100 agents\n",
      "Processing = 14/100 agents\n",
      "Processing = 15/100 agents\n",
      "Processing = 16/100 agents\n",
      "Processing = 17/100 agents\n",
      "Processing = 18/100 agents\n",
      "Processing = 19/100 agents\n",
      "Processing = 20/100 agents\n",
      "Processing = 21/100 agents\n",
      "Processing = 22/100 agents\n",
      "Processing = 23/100 agents\n",
      "Processing = 24/100 agents\n",
      "Processing = 25/100 agents\n",
      "Processing = 26/100 agents\n",
      "Processing = 27/100 agents\n",
      "Processing = 28/100 agents\n",
      "Processing = 29/100 agents\n",
      "Processing = 30/100 agents\n",
      "Processing = 31/100 agents\n",
      "Processing = 32/100 agents\n",
      "Processing = 33/100 agents\n",
      "Processing = 34/100 agents\n",
      "Processing = 35/100 agents\n",
      "Processing = 36/100 agents\n",
      "Processing = 37/100 agents\n",
      "Processing = 38/100 agents\n",
      "Processing = 39/100 agents\n",
      "Processing = 40/100 agents\n",
      "Processing = 41/100 agents\n",
      "Processing = 42/100 agents\n",
      "Processing = 43/100 agents\n",
      "Processing = 44/100 agents\n",
      "Processing = 45/100 agents\n",
      "Processing = 46/100 agents\n",
      "Processing = 47/100 agents\n",
      "Processing = 48/100 agents\n",
      "Processing = 49/100 agents\n",
      "Processing = 50/100 agents\n",
      "Processing = 51/100 agents\n",
      "Processing = 52/100 agents\n",
      "Processing = 53/100 agents\n",
      "Processing = 54/100 agents\n",
      "Processing = 55/100 agents\n",
      "Processing = 56/100 agents\n",
      "Processing = 57/100 agents\n",
      "Processing = 58/100 agents\n",
      "Processing = 59/100 agents\n",
      "Processing = 60/100 agents\n",
      "Processing = 61/100 agents\n",
      "Processing = 62/100 agents\n",
      "Processing = 63/100 agents\n",
      "Processing = 64/100 agents\n",
      "Processing = 65/100 agents\n",
      "Processing = 66/100 agents\n",
      "Processing = 67/100 agents\n",
      "Processing = 68/100 agents\n",
      "Processing = 69/100 agents\n",
      "Processing = 70/100 agents\n",
      "Processing = 71/100 agents\n",
      "Processing = 72/100 agents\n",
      "Processing = 73/100 agents\n",
      "Processing = 74/100 agents\n",
      "Processing = 75/100 agents\n",
      "Processing = 76/100 agents\n",
      "Processing = 77/100 agents\n",
      "Processing = 78/100 agents\n",
      "Processing = 79/100 agents\n",
      "Processing = 80/100 agents\n",
      "Processing = 81/100 agents\n",
      "Processing = 82/100 agents\n",
      "Processing = 83/100 agents\n",
      "Processing = 84/100 agents\n",
      "Processing = 85/100 agents\n",
      "Processing = 86/100 agents\n",
      "Processing = 87/100 agents\n",
      "Processing = 88/100 agents\n",
      "Processing = 89/100 agents\n",
      "Processing = 90/100 agents\n",
      "Processing = 91/100 agents\n",
      "Processing = 92/100 agents\n",
      "Processing = 93/100 agents\n",
      "Processing = 94/100 agents\n",
      "Processing = 95/100 agents\n",
      "Processing = 96/100 agents\n",
      "Processing = 97/100 agents\n",
      "Processing = 98/100 agents\n",
      "Processing = 99/100 agents\n",
      "Processing = 100/100 agents\n"
     ]
    }
   ],
   "source": [
    "sim = simulation.Simulation(osmMap)\n",
    "sim.initialize(100, 10)"
   ]
  },
  {
   "cell_type": "code",
   "execution_count": 6,
   "metadata": {},
   "outputs": [
    {
     "name": "stdout",
     "output_type": "stream",
     "text": [
      "Distance = 1192.5543735893043\n",
      "Destination: \n",
      "id: 2597880509\n",
      "lat = 36.0794412 lon = 140.0965456 \n",
      "Neighbor : \n",
      "\t2597880504 : 36.0794248, 140.0964268\n",
      "\t2597880507 : 36.0794343, 140.0968281\n",
      "\t2597880522 : 36.0796506, 140.0964651\n",
      "\n"
     ]
    }
   ],
   "source": [
    "print(sim.agents[0].currentERI)"
   ]
  },
  {
   "cell_type": "markdown",
   "metadata": {},
   "source": [
    "# Render Map"
   ]
  },
  {
   "cell_type": "code",
   "execution_count": 7,
   "metadata": {
    "scrolled": true
   },
   "outputs": [
    {
     "name": "stdout",
     "output_type": "stream",
     "text": [
      "1\n",
      "2\n",
      "3\n",
      "4\n",
      "5\n",
      "6\n",
      "7\n",
      "8\n",
      "Evac Success\n",
      "9\n",
      "10\n",
      "Evac Success\n",
      "Evac Success\n",
      "11\n",
      "Evac Success\n",
      "12\n",
      "13\n",
      "Evac Success\n",
      "14\n",
      "Evac Success\n",
      "15\n",
      "Evac Success\n",
      "Evac Success\n",
      "16\n",
      "Evac Success\n",
      "Evac Success\n",
      "Evac Success\n",
      "17\n",
      "Evac Success\n",
      "Evac Success\n",
      "18\n",
      "Evac Success\n",
      "19\n",
      "20\n",
      "Evac Success\n",
      "21\n",
      "Evac Success\n",
      "Evac Success\n",
      "22\n",
      "Evac Success\n",
      "23\n",
      "Evac Success\n",
      "Evac Success\n",
      "Evac Success\n",
      "Evac Success\n",
      "Evac Success\n",
      "24\n",
      "Evac Success\n",
      "25\n",
      "26\n",
      "27\n",
      "28\n",
      "Evac Success\n",
      "Evac Success\n",
      "29\n",
      "Evac Success\n",
      "Evac Success\n",
      "Evac Success\n",
      "Evac Success\n",
      "Evac Success\n",
      "30\n",
      "Evac Success\n",
      "Evac Success\n",
      "31\n",
      "32\n",
      "Evac Success\n",
      "Evac Success\n",
      "Evac Success\n",
      "33\n",
      "Evac Success\n",
      "Evac Success\n",
      "Evac Success\n",
      "34\n",
      "Evac Success\n",
      "35\n",
      "Evac Success\n",
      "36\n",
      "Evac Success\n",
      "Evac Success\n",
      "37\n",
      "Evac Success\n",
      "38\n",
      "Evac Success\n",
      "Evac Success\n",
      "39\n",
      "40\n",
      "41\n",
      "Evac Success\n",
      "42\n",
      "Evac Success\n",
      "43\n",
      "44\n",
      "Evac Success\n",
      "Evac Success\n",
      "Evac Success\n",
      "Evac Success\n",
      "45\n",
      "Evac Success\n",
      "46\n",
      "Evac Success\n",
      "Evac Success\n",
      "47\n",
      "Evac Success\n",
      "Evac Success\n",
      "48\n",
      "Evac Success\n",
      "Evac Success\n",
      "49\n",
      "50\n",
      "50\n"
     ]
    }
   ],
   "source": [
    "while (not evaluator.evaluate(sim,50)):\n",
    "    sim.step()\n",
    "    print(sim.stepCount)\n",
    "print(sim.stepCount)"
   ]
  },
  {
   "cell_type": "code",
   "execution_count": null,
   "metadata": {},
   "outputs": [],
   "source": []
  }
 ],
 "metadata": {
  "kernelspec": {
   "display_name": "Python 3",
   "language": "python",
   "name": "python3"
  },
  "language_info": {
   "codemirror_mode": {
    "name": "ipython",
    "version": 3
   },
   "file_extension": ".py",
   "mimetype": "text/x-python",
   "name": "python",
   "nbconvert_exporter": "python",
   "pygments_lexer": "ipython3",
   "version": "3.6.9"
  }
 },
 "nbformat": 4,
 "nbformat_minor": 2
}
