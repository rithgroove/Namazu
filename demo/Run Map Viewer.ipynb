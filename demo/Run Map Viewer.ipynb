{
 "cells": [
  {
   "cell_type": "markdown",
   "metadata": {},
   "source": [
    "# Load Library\n",
    "load global library"
   ]
  },
  {
   "cell_type": "code",
   "execution_count": 1,
   "metadata": {},
   "outputs": [],
   "source": [
    "import sys\n",
    "import os"
   ]
  },
  {
   "cell_type": "markdown",
   "metadata": {},
   "source": [
    "load local library"
   ]
  },
  {
   "cell_type": "code",
   "execution_count": 2,
   "metadata": {},
   "outputs": [],
   "source": [
    "sys.path.append(os.path.join(os.getcwd() , \"..\"))\n",
    "import lib.NZMap as nzmap\n",
    "import lib.NZRenderer as renderer"
   ]
  },
  {
   "cell_type": "markdown",
   "metadata": {},
   "source": [
    "# Path to file"
   ]
  },
  {
   "cell_type": "code",
   "execution_count": 3,
   "metadata": {},
   "outputs": [],
   "source": [
    "dataDirectory = os.path.join(\"..\",\"osmdata\")\n",
    "filename = \"TX-To-TU.osm\"\n",
    "filepath = os.path.join(dataDirectory,filename)"
   ]
  },
  {
   "cell_type": "markdown",
   "metadata": {},
   "source": [
    "# Load Data"
   ]
  },
  {
   "cell_type": "code",
   "execution_count": 4,
   "metadata": {},
   "outputs": [],
   "source": [
    "osmMap = nzmap.readFile(filepath)"
   ]
  },
  {
   "cell_type": "markdown",
   "metadata": {},
   "source": [
    "# Render Map"
   ]
  },
  {
   "cell_type": "markdown",
   "metadata": {},
   "source": [
    "renderer.render(osmMap)"
   ]
  },
  {
   "cell_type": "code",
   "execution_count": 5,
   "metadata": {},
   "outputs": [
    {
     "name": "stdout",
     "output_type": "stream",
     "text": [
      "Road 1 : 13444 cell\n",
      "Road 2 : 26 cell\n",
      "Road 3 : 54 cell\n",
      "Road 4 : 4 cell\n",
      "Road 5 : 8 cell\n",
      "Road 6 : 42 cell\n",
      "Road 7 : 7 cell\n",
      "Road 8 : 4 cell\n",
      "Road 9 : 15 cell\n",
      "Road 10 : 10 cell\n",
      "Road 11 : 53 cell\n",
      "Road 12 : 63 cell\n",
      "Road 13 : 42 cell\n",
      "Road 14 : 26 cell\n",
      "Road 15 : 18 cell\n",
      "Road 16 : 61 cell\n"
     ]
    }
   ],
   "source": [
    "osmMap.restructureRoad()"
   ]
  },
  {
   "cell_type": "code",
   "execution_count": null,
   "metadata": {},
   "outputs": [],
   "source": []
  }
 ],
 "metadata": {
  "kernelspec": {
   "display_name": "Python 3",
   "language": "python",
   "name": "python3"
  },
  "language_info": {
   "codemirror_mode": {
    "name": "ipython",
    "version": 3
   },
   "file_extension": ".py",
   "mimetype": "text/x-python",
   "name": "python",
   "nbconvert_exporter": "python",
   "pygments_lexer": "ipython3",
   "version": "3.6.9"
  }
 },
 "nbformat": 4,
 "nbformat_minor": 2
}
